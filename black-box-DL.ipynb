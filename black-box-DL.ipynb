{
 "cells": [
  {
   "cell_type": "code",
   "execution_count": 1,
   "metadata": {},
   "outputs": [],
   "source": [
    "from scipy.io import loadmat\n",
    "import numpy as np\n",
    "import matplotlib.pyplot as plt\n",
    "import torch\n",
    "from torch.utils.data.dataset import Dataset\n",
    "from torch.utils.data import DataLoader\n",
    "\n",
    "%matplotlib inline"
   ]
  },
  {
   "cell_type": "code",
   "execution_count": null,
   "metadata": {},
   "outputs": [],
   "source": [
    "plt.plot()"
   ]
  },
  {
   "cell_type": "markdown",
   "metadata": {},
   "source": [
    "## Prepare data"
   ]
  },
  {
   "cell_type": "code",
   "execution_count": null,
   "metadata": {},
   "outputs": [],
   "source": [
    "x = loadmat('Signals_S')\n",
    "y = loadmat(\"Labels_T\")"
   ]
  },
  {
   "cell_type": "code",
   "execution_count": null,
   "metadata": {},
   "outputs": [],
   "source": [
    "x = x['S']\n",
    "y = y['T']"
   ]
  },
  {
   "cell_type": "code",
   "execution_count": null,
   "metadata": {},
   "outputs": [],
   "source": [
    "x = x.T\n",
    "y = y.reshape(200, -1)\n",
    "y = y.T"
   ]
  },
  {
   "cell_type": "markdown",
   "metadata": {},
   "source": [
    "Standardize inputs"
   ]
  },
  {
   "cell_type": "code",
   "execution_count": null,
   "metadata": {},
   "outputs": [],
   "source": [
    "mean = np.mean(x, 0, keepdims=True)\n",
    "std = np.std(x, 0, keepdims=True)\n",
    "\n",
    "x = (x - mean) / std"
   ]
  },
  {
   "cell_type": "code",
   "execution_count": null,
   "metadata": {},
   "outputs": [],
   "source": [
    "class DiffusionDataset(Dataset):\n",
    "    def __init__(self, x, y):\n",
    "        self.x = x.astype(np.float32)\n",
    "        self.y = y.astype(np.float32)\n",
    "        \n",
    "    def __getitem__(self, index):\n",
    "        return self.x[index, :], self.y[index, :]\n",
    "\n",
    "    def __len__(self):\n",
    "        return self.x.shape[0]\n",
    "    \n",
    "def get_idx(n, train_val_test_fractions):\n",
    "    index = np.arange(0, n)\n",
    "    np.random.shuffle(index)\n",
    "\n",
    "    train_val_test_fractions /= np.sum(train_val_test_fractions)\n",
    "    split_locations = (np.cumsum(train_val_test_fractions[:-1]) * n).astype(int)\n",
    "    train_idx, val_idx, test_idx = np.split(index, split_locations)\n",
    "    return train_idx, val_idx, test_idx"
   ]
  },
  {
   "cell_type": "code",
   "execution_count": null,
   "metadata": {},
   "outputs": [],
   "source": [
    "n = x.shape[0]\n",
    "train_idx, val_idx, test_idx = get_idx(n, [0.8, 0.1, 0.1])\n",
    "\n",
    "data_train = DiffusionDataset(x[train_idx, :], y[train_idx, :])\n",
    "data_val = DiffusionDataset(x[val_idx, :], y[val_idx, :])\n",
    "data_test = DiffusionDataset(x[test_idx, :], y[test_idx, :])\n",
    "\n",
    "n_batch = 1000\n",
    "loader_train = DataLoader(data_train, batch_size=n_batch, shuffle=True)\n",
    "loader_val = DataLoader(data_val, batch_size=n_batch, shuffle=False)\n",
    "loader_test = DataLoader(data_test, batch_size=n_batch, shuffle=False)"
   ]
  },
  {
   "cell_type": "markdown",
   "metadata": {},
   "source": [
    "## Define neural network"
   ]
  },
  {
   "cell_type": "code",
   "execution_count": null,
   "metadata": {},
   "outputs": [],
   "source": [
    "from torch.nn import ModuleList, Linear, LeakyReLU, MSELoss\n",
    "\n",
    "class MLP(torch.nn.Module):\n",
    "\n",
    "    def __init__(self, n_channels, act=LeakyReLU()):\n",
    "      super().__init__()\n",
    "\n",
    "      self.layers = torch.nn.ModuleList()\n",
    "      for i in range(0, len(n_channels) - 1):\n",
    "        if i > 0:\n",
    "          self.layers.append(act)\n",
    "        self.layers.append(Linear(n_channels[i], n_channels[i+1])) \n",
    "\n",
    "    def forward(self, x):\n",
    "      for layer in self.layers:\n",
    "        x = layer(x)\n",
    "      return x\n",
    "\n",
    "loss_fn = MSELoss()"
   ]
  },
  {
   "cell_type": "code",
   "execution_count": null,
   "metadata": {},
   "outputs": [],
   "source": [
    "# To support GPU if available\n",
    "device = torch.device('cuda' if torch.cuda.is_available() else 'cpu')\n",
    "print(device)"
   ]
  },
  {
   "cell_type": "code",
   "execution_count": null,
   "metadata": {},
   "outputs": [],
   "source": [
    "net = MLP([2000, 1000, 500, 200]) # First is input dim and last is output dim\n",
    "net.to(device)"
   ]
  },
  {
   "cell_type": "markdown",
   "metadata": {},
   "source": [
    "## Train"
   ]
  },
  {
   "cell_type": "code",
   "execution_count": null,
   "metadata": {},
   "outputs": [],
   "source": [
    "loss_train = []\n",
    "loss_val = []\n",
    "\n",
    "optimizer = torch.optim.AdamW(net.parameters(), lr=1e-3)\n",
    "\n",
    "\n",
    "for epoch in range(2):\n",
    "\n",
    "  net.train()\n",
    "  running_loss = 0.0\n",
    "\n",
    "  for batch_index, batch in enumerate(loader_train):\n",
    "    x, y = batch\n",
    "    x.to(device)\n",
    "    y.to(device)\n",
    "    \n",
    "    pred = net(x)\n",
    "    loss = loss_fn(pred, y) \n",
    "    \n",
    "    optimizer.zero_grad()\n",
    "    loss.backward()\n",
    "    optimizer.step()\n",
    "\n",
    "    running_loss += loss.item()\n",
    "\n",
    "  loss_train.append(running_loss / (batch_index + 1))\n",
    "\n",
    "  net.eval()\n",
    "  running_loss = 0.0\n",
    "  for batch_index, batch in enumerate(loader_val):\n",
    "    x, y = batch\n",
    "    x.to(device)\n",
    "    y.to(device)\n",
    "    \n",
    "    pred = net(x)      \n",
    "    loss = loss_fn(pred, y) \n",
    "\n",
    "    running_loss += loss.item()\n",
    "\n",
    "  loss_val.append(running_loss / (batch_index + 1))"
   ]
  },
  {
   "cell_type": "code",
   "execution_count": null,
   "metadata": {},
   "outputs": [],
   "source": [
    "#plt.plot(loss_train)"
   ]
  },
  {
   "cell_type": "code",
   "execution_count": null,
   "metadata": {},
   "outputs": [],
   "source": []
  }
 ],
 "metadata": {
  "kernelspec": {
   "display_name": "prostate_dmri",
   "language": "python",
   "name": "prostate_dmri"
  },
  "language_info": {
   "codemirror_mode": {
    "name": "ipython",
    "version": 3
   },
   "file_extension": ".py",
   "mimetype": "text/x-python",
   "name": "python",
   "nbconvert_exporter": "python",
   "pygments_lexer": "ipython3",
   "version": "3.8.10"
  }
 },
 "nbformat": 4,
 "nbformat_minor": 4
}
